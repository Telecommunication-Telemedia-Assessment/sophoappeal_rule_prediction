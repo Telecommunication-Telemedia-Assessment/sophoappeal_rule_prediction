{
 "cells": [
  {
   "cell_type": "code",
   "execution_count": null,
   "metadata": {},
   "outputs": [],
   "source": [
    "# the following notebook is partially based on https://keras.io/guides/transfer_learning/"
   ]
  },
  {
   "cell_type": "code",
   "execution_count": null,
   "metadata": {},
   "outputs": [],
   "source": [
    "%matplotlib inline\n",
    "\n",
    "from IPython.display import display as d\n",
    "from IPython.display import Image \n",
    "\n",
    "import pandas as pd\n",
    "import numpy as np\n",
    "import seaborn as sns\n",
    "sns.set(rc={'figure.figsize':(12,12)})\n",
    "sns.set_style(\"white\")\n",
    "import glob\n",
    "import json\n",
    "import os\n",
    "import sys\n",
    "import json\n",
    "import shutil\n",
    "import os\n",
    "import sys\n",
    "import multiprocessing\n",
    "import shutil\n",
    "from pprint import pprint\n",
    "\n",
    "pool = multiprocessing.Pool(multiprocessing.cpu_count())"
   ]
  },
  {
   "cell_type": "code",
   "execution_count": null,
   "metadata": {},
   "outputs": [],
   "source": [
    "#!pip3 install keras tensorflow"
   ]
  },
  {
   "cell_type": "code",
   "execution_count": null,
   "metadata": {},
   "outputs": [],
   "source": [
    "# deactivate GPU\n",
    "import os\n",
    "os.environ['CUDA_VISIBLE_DEVICES'] = '-1'"
   ]
  },
  {
   "cell_type": "code",
   "execution_count": null,
   "metadata": {},
   "outputs": [],
   "source": [
    "import tensorflow as tf\n",
    "import keras\n",
    "\n",
    "from tensorflow.compat.v1 import ConfigProto\n",
    "from tensorflow.compat.v1 import InteractiveSession\n",
    "\n",
    "config = ConfigProto()\n",
    "config.gpu_options.allow_growth = True\n",
    "session = InteractiveSession(config=config)\n",
    "\n",
    "print(tf.config.list_physical_devices('GPU'))"
   ]
  },
  {
   "cell_type": "code",
   "execution_count": null,
   "metadata": {},
   "outputs": [],
   "source": [
    "directory = \"data/rule_of_thirds/\"\n",
    "batch_size = 32\n",
    "input_shape = (224, 224, 3)\n",
    "\n",
    "def read_images(directory, subset, batch_size=32):\n",
    "    return tf.keras.preprocessing.image_dataset_from_directory(\n",
    "        directory, \n",
    "        labels='inferred', \n",
    "        label_mode='int',\n",
    "        color_mode='rgb', \n",
    "        batch_size=batch_size, \n",
    "        image_size=input_shape[0:2], \n",
    "        shuffle=True, \n",
    "        seed=42, \n",
    "        validation_split=0.1,  # 10% validation \n",
    "        subset=subset,\n",
    "        interpolation='bilinear'\n",
    "    )\n",
    "\n",
    "training = read_images(directory, \"training\", batch_size)\n",
    "print(training)\n",
    "\n",
    "validation = read_images(directory, \"validation\", batch_size)\n",
    "print(validation)"
   ]
  },
  {
   "cell_type": "code",
   "execution_count": null,
   "metadata": {},
   "outputs": [],
   "source": [
    "import matplotlib.pyplot as plt\n",
    "\n",
    "def overview_dataset(data):\n",
    "    class_names = data.class_names\n",
    "\n",
    "    plt.figure(figsize=(10, 10))\n",
    "    for images, labels in data.take(1):\n",
    "          for i in range(min(len(images), 9)):\n",
    "                ax = plt.subplot(3, 3, i + 1)\n",
    "                plt.imshow(images[i].numpy().astype(\"uint8\"))\n",
    "                plt.title(class_names[labels[i]])\n",
    "                plt.axis(\"off\")\n",
    "\n"
   ]
  },
  {
   "cell_type": "code",
   "execution_count": null,
   "metadata": {},
   "outputs": [],
   "source": [
    "overview_dataset(training)"
   ]
  },
  {
   "cell_type": "code",
   "execution_count": null,
   "metadata": {},
   "outputs": [],
   "source": [
    "overview_dataset(validation)"
   ]
  },
  {
   "cell_type": "code",
   "execution_count": null,
   "metadata": {},
   "outputs": [],
   "source": [
    "from tensorflow import keras\n",
    "from tensorflow.keras import layers\n",
    "\n",
    "\n",
    "class RandomJPEG(layers.experimental.preprocessing.PreprocessingLayer):\n",
    "    def __init__(self, min_comp=70, max_comp=99):\n",
    "        super(RandomJPEG, self).__init__()\n",
    "        self.min_comp = min_comp\n",
    "        self.max_comp = max_comp\n",
    "    def call(self, images):\n",
    "        return tf.map_fn(\n",
    "            lambda img: tf.image.random_jpeg_quality(img, self.min_comp, self.max_comp), \n",
    "            images\n",
    "        )\n",
    "\n",
    "class RandomHue(layers.experimental.preprocessing.PreprocessingLayer):\n",
    "    def __init__(self, max_delta=0.2):\n",
    "        super(RandomHue, self).__init__()\n",
    "        self.max_delta = max_delta\n",
    "\n",
    "    def call(self, images):\n",
    "        return tf.map_fn(\n",
    "            lambda img: tf.image.random_hue(img, self.max_delta), \n",
    "            images\n",
    "        )\n",
    "    \n",
    "\n",
    "class RandomSat(layers.experimental.preprocessing.PreprocessingLayer):\n",
    "    def __init__(self, lower=3, upper=6):\n",
    "        super(RandomSat, self).__init__()\n",
    "        self.lower = lower\n",
    "        self.upper = upper\n",
    "\n",
    "    def call(self, images):\n",
    "        return tf.map_fn(\n",
    "            lambda img: tf.image.random_saturation(img, self.lower, self.upper), \n",
    "            images\n",
    "        )\n",
    "\n",
    "    \n",
    "data_augmentation = keras.Sequential(\n",
    "    [\n",
    "        layers.experimental.preprocessing.RandomFlip(\"horizontal_and_vertical\"),\n",
    "        layers.experimental.preprocessing.RandomContrast(0.5),\n",
    "        RandomHue(),\n",
    "        RandomSat(),\n",
    "        #RandomJPEG(), # this does not work\n",
    "    ]\n",
    ")"
   ]
  },
  {
   "cell_type": "code",
   "execution_count": null,
   "metadata": {},
   "outputs": [],
   "source": []
  },
  {
   "cell_type": "code",
   "execution_count": null,
   "metadata": {},
   "outputs": [],
   "source": [
    "base_model = keras.applications.DenseNet201( # MobileNetV2( # VGG19(\n",
    "    weights=\"imagenet\",  # Load weights pre-trained on ImageNet.\n",
    "    input_shape=input_shape,\n",
    "    include_top=False,\n",
    ")  # Do not include the ImageNet classifier at the top.\n",
    "\n",
    "# Freeze the base_model\n",
    "base_model.trainable = False\n",
    "\n",
    "# Create new model on top\n",
    "inputs = keras.Input(shape=input_shape)\n",
    "\n",
    "x = tf.keras.applications.densenet.preprocess_input(inputs)\n",
    "\n",
    "x = base_model(x, training=False)\n",
    "\n",
    "#x = keras.layers.GlobalAveragePooling2D()(x)\n",
    "x = keras.layers.Flatten()(x)  \n",
    "x = keras.layers.Dropout(0.2)(x)  # Regularize with dropout\n",
    "outputs = keras.layers.Dense(1, activation=\"sigmoid\")(x)  # , activation='softmax'\n",
    "\n",
    "model = keras.Model(inputs, outputs)\n",
    "\n",
    "model.summary()\n"
   ]
  },
  {
   "cell_type": "code",
   "execution_count": null,
   "metadata": {},
   "outputs": [],
   "source": [
    "# this still does not work\n",
    "def augment_images(images):\n",
    "    for batch, label in images:\n",
    "        da = data_augmentation(batch)\n",
    "        yield da, label\n"
   ]
  },
  {
   "cell_type": "code",
   "execution_count": null,
   "metadata": {},
   "outputs": [],
   "source": [
    "from tqdm.keras import TqdmCallback\n",
    "from keras.callbacks import ModelCheckpoint"
   ]
  },
  {
   "cell_type": "code",
   "execution_count": null,
   "metadata": {},
   "outputs": [],
   "source": [
    "model.compile(\n",
    "    optimizer=keras.optimizers.Adam(),\n",
    "    loss=keras.losses.BinaryCrossentropy(from_logits=True),\n",
    "    metrics=[keras.metrics.BinaryAccuracy()],\n",
    ")\n",
    "\n",
    "checkpoint = ModelCheckpoint(\n",
    "    \"best_model.hdf5\",\n",
    "    monitor='val_loss', \n",
    "    verbose=0,\n",
    "    save_best_only=True, \n",
    "    mode='auto', \n",
    "    save_freq='epoch'\n",
    ")\n",
    "\n",
    "\n",
    "epochs = 2\n",
    "res = model.fit(\n",
    "    training, \n",
    "    epochs=epochs, \n",
    "    validation_data=validation,\n",
    "    verbose=0,\n",
    "    callbacks=[TqdmCallback(verbose=2), checkpoint]\n",
    ")"
   ]
  },
  {
   "cell_type": "code",
   "execution_count": null,
   "metadata": {},
   "outputs": [],
   "source": [
    "y_pred = res.model.predict(validation)\n"
   ]
  },
  {
   "cell_type": "code",
   "execution_count": null,
   "metadata": {},
   "outputs": [],
   "source": [
    "pprint(y_pred.shape)\n",
    "y_pred = y_pred.flatten()\n",
    "pprint(y_pred)"
   ]
  },
  {
   "cell_type": "code",
   "execution_count": null,
   "metadata": {},
   "outputs": [],
   "source": []
  },
  {
   "cell_type": "code",
   "execution_count": null,
   "metadata": {},
   "outputs": [],
   "source": []
  },
  {
   "cell_type": "code",
   "execution_count": null,
   "metadata": {},
   "outputs": [],
   "source": [
    "y_truth = []\n",
    "for y, l in validation:\n",
    "    y_truth.extend(l.numpy())\n",
    "y_truth = np.array(y_truth).flatten() "
   ]
  },
  {
   "cell_type": "code",
   "execution_count": null,
   "metadata": {},
   "outputs": [],
   "source": [
    "df = pd.DataFrame({\"y_pred\": y_pred, \"y_truth\": y_truth})"
   ]
  },
  {
   "cell_type": "code",
   "execution_count": null,
   "metadata": {},
   "outputs": [],
   "source": [
    "df.plot(x=\"y_pred\", y=\"y_truth\", kind=\"scatter\")"
   ]
  },
  {
   "cell_type": "code",
   "execution_count": null,
   "metadata": {},
   "outputs": [],
   "source": [
    "from sklearn.metrics import classification_report\n",
    "\n",
    "print(\n",
    "    classification_report(y_truth, [1 if x > 0.0 else 0 for x in y_pred], zero_division=0)\n",
    ")"
   ]
  },
  {
   "cell_type": "code",
   "execution_count": null,
   "metadata": {},
   "outputs": [],
   "source": [
    "hist = res.history\n",
    "hist[\"epoch\"] = list(range(len(hist[\"loss\"])))\n",
    "\n",
    "pprint(hist)\n",
    "\n",
    "dh = pd.DataFrame(hist)"
   ]
  },
  {
   "cell_type": "code",
   "execution_count": null,
   "metadata": {},
   "outputs": [],
   "source": [
    "dh.plot(x=\"epoch\", y=[\"loss\", \"val_loss\"], figsize=(12,8))"
   ]
  },
  {
   "cell_type": "code",
   "execution_count": null,
   "metadata": {},
   "outputs": [],
   "source": [
    "dh.plot(x=\"epoch\", y=[\"binary_accuracy\", \"val_binary_accuracy\"], figsize=(12,8))\n",
    "\n"
   ]
  },
  {
   "cell_type": "code",
   "execution_count": null,
   "metadata": {},
   "outputs": [],
   "source": []
  }
 ],
 "metadata": {
  "kernelspec": {
   "display_name": "Python 3",
   "language": "python",
   "name": "python3"
  },
  "language_info": {
   "codemirror_mode": {
    "name": "ipython",
    "version": 3
   },
   "file_extension": ".py",
   "mimetype": "text/x-python",
   "name": "python",
   "nbconvert_exporter": "python",
   "pygments_lexer": "ipython3",
   "version": "3.8.5"
  }
 },
 "nbformat": 4,
 "nbformat_minor": 4
}
